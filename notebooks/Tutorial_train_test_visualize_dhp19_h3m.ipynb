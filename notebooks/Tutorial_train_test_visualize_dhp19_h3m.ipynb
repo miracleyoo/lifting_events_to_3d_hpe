{
 "cells": [
  {
   "cell_type": "code",
   "execution_count": 1,
   "metadata": {},
   "outputs": [],
   "source": [
    "import sys\n",
    "sys.path.append('../scripts')"
   ]
  },
  {
   "cell_type": "code",
   "execution_count": 2,
   "metadata": {},
   "outputs": [
    {
     "name": "stderr",
     "output_type": "stream",
     "text": [
      "C:\\Users\\miracleyoo\\Anaconda3\\envs\\dvs_pose\\lib\\site-packages\\matplotlib_inline\\config.py:66: DeprecationWarning: InlineBackend._figure_formats_changed is deprecated in traitlets 4.1: use @observe and @unobserve instead.\n",
      "  def _figure_formats_changed(self, name, old, new):\n"
     ]
    }
   ],
   "source": [
    "import experimenting\n",
    "import event_library as el\n",
    "import torch\n",
    "from matplotlib import pyplot as plt\n",
    "from experimenting.utils.visualization import plot_skeleton_2d, plot_skeleton_3d\n",
    "from experimenting.utils.skeleton_helpers import Skeleton\n",
    "import numpy as np\n",
    "from experimenting.dataset.factory import Joints3DConstructor\n",
    "import experimenting.utils.visualization as viz\n",
    "import experimenting\n",
    "from experimenting.utils import utilities"
   ]
  },
  {
   "cell_type": "code",
   "execution_count": 3,
   "metadata": {},
   "outputs": [],
   "source": [
    "hw = el.utils.get_hw_property('dvs')"
   ]
  },
  {
   "cell_type": "code",
   "execution_count": 4,
   "metadata": {},
   "outputs": [],
   "source": [
    "# Wrapper for Events-H3m\n",
    "# h3mcore = experimenting.dataset.HumanCore('test', '/data/gscarpellini/dataset/human3.6m/constant_count', '/data/gscarpellini/dataset/human3.6m/constant_count/gt.npz', 'cross-view', 1, test_cams=[1, 3], test_subjects=[6, 7])"
   ]
  },
  {
   "cell_type": "code",
   "execution_count": 32,
   "metadata": {},
   "outputs": [],
   "source": [
    "# Wrapper for DHP19\n",
    "# dhpcore = experimenting.dataset.DHP19Core('test', base_path='/data/gscarpellini/dhp19/time_count_dataset', data_dir='/data/gscarpellini/dhp19/time_count_dataset/movements_per_frame', joints_dir='/data/gscarpellini/dhp19/time_count_dataset/labels_full_joints', hm_dir=\"\",  labels_dir=\"\", preload_dir=\"\", n_joints=13, n_classes=33, partition='cross-subject', n_channels=1, cams=[1, 3], movements=None, test_subjects=[6, 7])\n",
    "dhpcore = experimenting.dataset.DHP19Core('test', base_path=r'D:\\Dataset\\DVS\\dhp19\\time_count_dataset', data_dir=r'D:\\Dataset\\DVS\\dhp19\\time_count_dataset\\frames', joints_dir=r'D:\\Dataset\\DVS\\dhp19\\time_count_dataset\\labels', hm_dir=\"\",  labels_dir=\"\", preload_dir=\"\", n_joints=13, n_classes=33, partition='cross-subject', n_channels=1, cams=[1, 3], movements=None, test_subjects=[3,4])\n"
   ]
  },
  {
   "cell_type": "code",
   "execution_count": 6,
   "metadata": {},
   "outputs": [],
   "source": [
    "# Example using H3m"
   ]
  },
  {
   "cell_type": "code",
   "execution_count": 10,
   "metadata": {},
   "outputs": [],
   "source": [
    "# idx = 10\n",
    "# print(h3mcore.frames_info[idx+1])\n",
    "# sk, intr, extr = h3mcore.get_joint_from_id(idx)\n",
    "# frame = h3mcore.get_frame_from_id(idx)\n",
    "# joints = sk.get_2d_points(260, 346, intrinsic_matrix=intr, extrinsic_matrix=extr)\n",
    "# plot_skeleton_3d(sk)\n",
    "# plot_skeleton_2d(frame.squeeze(), joints)"
   ]
  },
  {
   "cell_type": "markdown",
   "metadata": {},
   "source": [
    "## Evaluate a model \n"
   ]
  },
  {
   "cell_type": "markdown",
   "metadata": {},
   "source": [
    "### H3m\n"
   ]
  },
  {
   "cell_type": "code",
   "execution_count": 7,
   "metadata": {},
   "outputs": [
    {
     "name": "stdout",
     "output_type": "stream",
     "text": [
      "Loading training\n",
      "Loading from ...  /home/gianscarpe/dev/event-based-monocular-hpe/h3m_constantcount/exps_MargiposeEstimator/cross-view/03-18-08-22_exp_resnet50_pretrained_True/checkpoints/epoch=46-val_loss=0.04.ckpt\n"
     ]
    }
   ],
   "source": [
    "path = \"/home/gianscarpe/dev/event-based-monocular-hpe/h3m_constantcount/exps_MargiposeEstimator/cross-view/03-18-08-22_exp_resnet50_pretrained_True/checkpoints\"\n",
    "model = utilities.load_model(path, \"MargiposeEstimator\", core=h3mcore).double()"
   ]
  },
  {
   "cell_type": "code",
   "execution_count": null,
   "metadata": {},
   "outputs": [],
   "source": [
    "factory = Joints3DConstructor()\n",
    "factory.set_dataset_core(h3mcore)\n",
    "train, val, test = factory.get_datasets({'apply':{}}, {'apply':{}})"
   ]
  },
  {
   "cell_type": "code",
   "execution_count": 8,
   "metadata": {},
   "outputs": [],
   "source": [
    "loader = iter(torch.utils.data.DataLoader(test, batch_size=1, shuffle=True))"
   ]
  },
  {
   "cell_type": "code",
   "execution_count": 71,
   "metadata": {},
   "outputs": [
    {
     "name": "stderr",
     "output_type": "stream",
     "text": [
      "No handles with labels found to put in legend.\n"
     ]
    },
    {
     "data": {
      "image/png": "[encoded data removed]",
      "text/plain": [
       "<Figure size 432x288 with 1 Axes>"
      ]
     },
     "metadata": {
      "needs_background": "light"
     },
     "output_type": "display_data"
    }
   ],
   "source": [
    "viz.plot_skeleton_2d(b_x[0].squeeze(),b_y['2d_joints'][0], pred_sk.get_2d_points(260, 346, extrinsic_matrix=b_y['M'][0], intrinsic_matrix=b_y['camera'][0]))"
   ]
  },
  {
   "cell_type": "markdown",
   "metadata": {},
   "source": [
    "### DHP19\n"
   ]
  },
  {
   "cell_type": "code",
   "execution_count": 33,
   "metadata": {},
   "outputs": [
    {
     "name": "stdout",
     "output_type": "stream",
     "text": [
      "Loading training\n",
      "Loading from ...  D:\\Dataset\\DVS\\dhp19\\pretrained_model\\dhp19_constantcount\\checkpoints\\epoch=19-val_loss=0.09.ckpt\n"
     ]
    }
   ],
   "source": [
    "# path = \"/home/gianscarpe/dev/event-based-monocular-hpe/timecount_dhp19/exps_MargiposeEstimator/cross-subject/03-20-08-54_exp_resnet50_pretrained_True_stages_3/checkpoints/\"\n",
    "path = r'D:\\Dataset\\DVS\\dhp19\\pretrained_model\\dhp19_constantcount\\checkpoints'\n",
    "model = utilities.load_model(path, \"MargiposeEstimator\", core=dhpcore).eval().double().cuda()"
   ]
  },
  {
   "cell_type": "code",
   "execution_count": 34,
   "metadata": {},
   "outputs": [],
   "source": [
    "factory = Joints3DConstructor()\n",
    "factory.set_dataset_core(dhpcore)\n",
    "train, val, test = factory.get_datasets({'apply':{}}, {'apply':{}})"
   ]
  },
  {
   "cell_type": "code",
   "execution_count": 45,
   "metadata": {},
   "outputs": [],
   "source": [
    "np.random.seed(100)\n",
    "loader = iter(torch.utils.data.DataLoader(val, batch_size=1, shuffle=True))"
   ]
  },
  {
   "cell_type": "code",
   "execution_count": 46,
   "metadata": {},
   "outputs": [],
   "source": [
    "# for i in range(1000):\n",
    "b_x, b_y = next(loader)"
   ]
  },
  {
   "cell_type": "code",
   "execution_count": 50,
   "metadata": {},
   "outputs": [
    {
     "name": "stdout",
     "output_type": "stream",
     "text": [
      "Keys: dict_keys(['xyz', 'skeleton', 'normalized_skeleton', 'z_ref', '2d_joints', 'M', 'camera', 'mask'])\n",
      "xyz: tensor([[[   5.4881, -460.3651, 1930.2375],\n",
      "         [-199.0724, -265.8681, 1701.3992],\n",
      "         [ 149.6619, -229.5603, 1705.9440],\n",
      "         [-283.8966, -150.0900, 1399.7340],\n",
      "         [ 254.1665, -223.8910, 1349.9075],\n",
      "         [-130.2336, -380.0354, 1189.9995],\n",
      "         [ 110.4661, -359.7754, 1206.5951],\n",
      "         [-340.1531, -375.0940, 1150.6442],\n",
      "         [ 230.5491, -544.9155, 1312.4452],\n",
      "         [-124.0047, -376.3557,  712.4835],\n",
      "         [  79.6868, -367.8016,  707.1934],\n",
      "         [-161.1870, -344.1095,   74.9439],\n",
      "         [ 126.2818, -384.4052,   96.4709]]], dtype=torch.float64)\n",
      "\n",
      "skeleton: tensor([[[ 407.7645, -855.4892, 2857.4792],\n",
      "         [ 433.5334, -719.9788, 3193.6547],\n",
      "         [ 142.8764, -673.7885, 3003.0254],\n",
      "         [ 415.8332, -475.1717, 3420.2773],\n",
      "         [  48.9636, -317.6891, 3048.7303],\n",
      "         [ 439.3690, -192.2097, 3220.6417],\n",
      "         [ 242.2134, -171.9862, 3081.5631],\n",
      "         [ 596.1152, -191.6800, 3365.7962],\n",
      "         [ 271.7576, -206.8728, 2841.1237],\n",
      "         [ 418.6689,  263.5169, 3361.9168],\n",
      "         [ 256.7830,  301.1934, 3243.7440],\n",
      "         [ 408.4165,  857.4706, 3598.5452],\n",
      "         [ 214.3334,  895.8867, 3385.0471]]], dtype=torch.float64)\n",
      "\n",
      "normalized_skeleton: tensor([[[ 3.0398e-01, -8.5092e-01, -3.1829e-16],\n",
      "         [ 2.8917e-01, -6.4075e-01,  2.6069e-01],\n",
      "         [ 1.0135e-01, -6.3771e-01,  1.2003e-01],\n",
      "         [ 2.5899e-01, -3.9486e-01,  4.0752e-01],\n",
      "         [ 3.4212e-02, -2.9617e-01,  1.5536e-01],\n",
      "         [ 2.9061e-01, -1.6963e-01,  2.7926e-01],\n",
      "         [ 1.6744e-01, -1.5863e-01,  1.8009e-01],\n",
      "         [ 3.7728e-01, -1.6186e-01,  3.7403e-01],\n",
      "         [ 2.0376e-01, -2.0695e-01, -1.4257e-02],\n",
      "         [ 2.6528e-01,  2.2278e-01,  3.7160e-01],\n",
      "         [ 1.6863e-01,  2.6391e-01,  2.9491e-01],\n",
      "         [ 2.4177e-01,  6.7725e-01,  5.1002e-01],\n",
      "         [ 1.3488e-01,  7.5222e-01,  3.8598e-01]]], dtype=torch.float64)\n",
      "\n",
      "z_ref: tensor([2857.4792], dtype=torch.float64)\n",
      "\n",
      "2d_joints: tensor([[[119., 234.],\n",
      "         [121., 207.],\n",
      "         [152., 207.],\n",
      "         [125., 176.],\n",
      "         [163., 163.],\n",
      "         [119., 147.],\n",
      "         [140., 146.],\n",
      "         [105., 146.],\n",
      "         [134., 152.],\n",
      "         [123.,  98.],\n",
      "         [139.,  93.],\n",
      "         [126.,  40.],\n",
      "         [143.,  31.]]], dtype=torch.float64)\n",
      "\n",
      "M: tensor([[[-7.6711e-01, -6.4089e-01,  2.8405e-02,  6.2104e+01],\n",
      "         [ 1.7054e-01, -2.4641e-01, -9.5404e-01,  8.7167e+02],\n",
      "         [ 6.1844e-01, -7.2701e-01,  2.9832e-01, -3.7714e+03]]],\n",
      "       dtype=torch.float64)\n",
      "\n",
      "camera: tensor([[[358.5965,   6.4216, 168.3375,   0.0000],\n",
      "         [  0.0000, 359.4310, 126.4609,   0.0000],\n",
      "         [  0.0000,   0.0000,   1.0000,   0.0000]]], dtype=torch.float64)\n",
      "\n",
      "mask: tensor([[True, True, True, True, True, True, True, True, True, True, True, True,\n",
      "         True]])\n",
      "\n"
     ]
    }
   ],
   "source": [
    "# print(b_y['M'])\n",
    "# print(b_y['camera'])\n",
    "# print(b_y['z_ref'])\n",
    "# print(b_y['mask'])\n",
    "# print(b_y['skeleton'])\n",
    "# print(b_y['normalized_skeleton'])\n",
    "# print(b_y['2d_joints'])\n",
    "\n",
    "bykeys = b_y.keys()\n",
    "print(f'Keys: {bykeys}')\n",
    "\n",
    "for k in bykeys:\n",
    "    print(f'{k}: {b_y[k]}\\n')\n"
   ]
  },
  {
   "cell_type": "code",
   "execution_count": 43,
   "metadata": {},
   "outputs": [],
   "source": [
    "counter=0\n",
    "def plot_next(loader):\n",
    "    b_x, b_y = next(loader)\n",
    "    sk_label = Skeleton(b_y['xyz'][0])\n",
    "    preds, outs = model(b_x.permute(0, -1, 1, 2).cuda())\n",
    "    preds = preds.cpu()\n",
    "    pred_sk = Skeleton(preds[0].detach().numpy()).denormalize(260, 346, camera=b_y['camera'][0], z_ref=b_y['z_ref'][0]).reproject_onto_world(b_y['M'][0])\n",
    "    plot_skeleton_3d(sk_label, pred_sk)\n",
    "    gt_joints = torch.stack([b_y['2d_joints'][0][:, 0], b_y['2d_joints'][0][:, 1]], 1)\n",
    "    pred_joints = pred_sk.get_2d_points(260, 346, extrinsic_matrix=b_y['M'][0], intrinsic_matrix=b_y['camera'][0])\n",
    "    plt.savefig(f'results/3D/{counter}.png')\n",
    "    plt.close('all')\n",
    "\n",
    "    pred_joints = np.stack([pred_joints[:, 0], pred_joints[:, 1]], 1)\n",
    "    plot_skeleton_2d(b_x[0].squeeze(), gt_joints, pred_joints)\n",
    "    plt.savefig(f'results/2D/{counter}.png')\n",
    "    \n",
    "    # plt.cla()\n",
    "    plt.close('all')\n",
    "    return sk_label, pred_sk"
   ]
  },
  {
   "cell_type": "code",
   "execution_count": 44,
   "id": "82a6bf71",
   "metadata": {},
   "outputs": [
    {
     "name": "stderr",
     "output_type": "stream",
     "text": [
      "e:\\GitHub\\lifting_events_to_3d_hpe\\notebooks\\../scripts\\experimenting\\utils\\visualization.py:10: MatplotlibDeprecationWarning: Axes3D(fig) adding itself to the figure is deprecated since 3.4. Pass the keyword argument auto_add_to_figure=False and use fig.add_axes(ax) to suppress this warning. The default value of auto_add_to_figure will change to False in mpl3.5 and True values will no longer work in 3.6.  This is consistent with other Axes classes.\n",
      "  ax = Axes3D(fig)\n",
      "No handles with labels found to put in legend.\n",
      "e:\\GitHub\\lifting_events_to_3d_hpe\\notebooks\\../scripts\\experimenting\\utils\\visualization.py:10: MatplotlibDeprecationWarning: Axes3D(fig) adding itself to the figure is deprecated since 3.4. Pass the keyword argument auto_add_to_figure=False and use fig.add_axes(ax) to suppress this warning. The default value of auto_add_to_figure will change to False in mpl3.5 and True values will no longer work in 3.6.  This is consistent with other Axes classes.\n",
      "  ax = Axes3D(fig)\n",
      "No handles with labels found to put in legend.\n",
      "e:\\GitHub\\lifting_events_to_3d_hpe\\notebooks\\../scripts\\experimenting\\utils\\visualization.py:10: MatplotlibDeprecationWarning: Axes3D(fig) adding itself to the figure is deprecated since 3.4. Pass the keyword argument auto_add_to_figure=False and use fig.add_axes(ax) to suppress this warning. The default value of auto_add_to_figure will change to False in mpl3.5 and True values will no longer work in 3.6.  This is consistent with other Axes classes.\n",
      "  ax = Axes3D(fig)\n",
      "No handles with labels found to put in legend.\n",
      "e:\\GitHub\\lifting_events_to_3d_hpe\\notebooks\\../scripts\\experimenting\\utils\\visualization.py:10: MatplotlibDeprecationWarning: Axes3D(fig) adding itself to the figure is deprecated since 3.4. Pass the keyword argument auto_add_to_figure=False and use fig.add_axes(ax) to suppress this warning. The default value of auto_add_to_figure will change to False in mpl3.5 and True values will no longer work in 3.6.  This is consistent with other Axes classes.\n",
      "  ax = Axes3D(fig)\n",
      "No handles with labels found to put in legend.\n",
      "e:\\GitHub\\lifting_events_to_3d_hpe\\notebooks\\../scripts\\experimenting\\utils\\visualization.py:10: MatplotlibDeprecationWarning: Axes3D(fig) adding itself to the figure is deprecated since 3.4. Pass the keyword argument auto_add_to_figure=False and use fig.add_axes(ax) to suppress this warning. The default value of auto_add_to_figure will change to False in mpl3.5 and True values will no longer work in 3.6.  This is consistent with other Axes classes.\n",
      "  ax = Axes3D(fig)\n",
      "No handles with labels found to put in legend.\n",
      "e:\\GitHub\\lifting_events_to_3d_hpe\\notebooks\\../scripts\\experimenting\\utils\\visualization.py:10: MatplotlibDeprecationWarning: Axes3D(fig) adding itself to the figure is deprecated since 3.4. Pass the keyword argument auto_add_to_figure=False and use fig.add_axes(ax) to suppress this warning. The default value of auto_add_to_figure will change to False in mpl3.5 and True values will no longer work in 3.6.  This is consistent with other Axes classes.\n",
      "  ax = Axes3D(fig)\n",
      "No handles with labels found to put in legend.\n",
      "e:\\GitHub\\lifting_events_to_3d_hpe\\notebooks\\../scripts\\experimenting\\utils\\visualization.py:10: MatplotlibDeprecationWarning: Axes3D(fig) adding itself to the figure is deprecated since 3.4. Pass the keyword argument auto_add_to_figure=False and use fig.add_axes(ax) to suppress this warning. The default value of auto_add_to_figure will change to False in mpl3.5 and True values will no longer work in 3.6.  This is consistent with other Axes classes.\n",
      "  ax = Axes3D(fig)\n",
      "No handles with labels found to put in legend.\n",
      "e:\\GitHub\\lifting_events_to_3d_hpe\\notebooks\\../scripts\\experimenting\\utils\\visualization.py:10: MatplotlibDeprecationWarning: Axes3D(fig) adding itself to the figure is deprecated since 3.4. Pass the keyword argument auto_add_to_figure=False and use fig.add_axes(ax) to suppress this warning. The default value of auto_add_to_figure will change to False in mpl3.5 and True values will no longer work in 3.6.  This is consistent with other Axes classes.\n",
      "  ax = Axes3D(fig)\n",
      "No handles with labels found to put in legend.\n",
      "e:\\GitHub\\lifting_events_to_3d_hpe\\notebooks\\../scripts\\experimenting\\utils\\visualization.py:10: MatplotlibDeprecationWarning: Axes3D(fig) adding itself to the figure is deprecated since 3.4. Pass the keyword argument auto_add_to_figure=False and use fig.add_axes(ax) to suppress this warning. The default value of auto_add_to_figure will change to False in mpl3.5 and True values will no longer work in 3.6.  This is consistent with other Axes classes.\n",
      "  ax = Axes3D(fig)\n",
      "No handles with labels found to put in legend.\n",
      "e:\\GitHub\\lifting_events_to_3d_hpe\\notebooks\\../scripts\\experimenting\\utils\\visualization.py:10: MatplotlibDeprecationWarning: Axes3D(fig) adding itself to the figure is deprecated since 3.4. Pass the keyword argument auto_add_to_figure=False and use fig.add_axes(ax) to suppress this warning. The default value of auto_add_to_figure will change to False in mpl3.5 and True values will no longer work in 3.6.  This is consistent with other Axes classes.\n",
      "  ax = Axes3D(fig)\n",
      "No handles with labels found to put in legend.\n",
      "e:\\GitHub\\lifting_events_to_3d_hpe\\notebooks\\../scripts\\experimenting\\utils\\visualization.py:10: MatplotlibDeprecationWarning: Axes3D(fig) adding itself to the figure is deprecated since 3.4. Pass the keyword argument auto_add_to_figure=False and use fig.add_axes(ax) to suppress this warning. The default value of auto_add_to_figure will change to False in mpl3.5 and True values will no longer work in 3.6.  This is consistent with other Axes classes.\n",
      "  ax = Axes3D(fig)\n",
      "No handles with labels found to put in legend.\n",
      "e:\\GitHub\\lifting_events_to_3d_hpe\\notebooks\\../scripts\\experimenting\\utils\\visualization.py:10: MatplotlibDeprecationWarning: Axes3D(fig) adding itself to the figure is deprecated since 3.4. Pass the keyword argument auto_add_to_figure=False and use fig.add_axes(ax) to suppress this warning. The default value of auto_add_to_figure will change to False in mpl3.5 and True values will no longer work in 3.6.  This is consistent with other Axes classes.\n",
      "  ax = Axes3D(fig)\n",
      "No handles with labels found to put in legend.\n",
      "e:\\GitHub\\lifting_events_to_3d_hpe\\notebooks\\../scripts\\experimenting\\utils\\visualization.py:10: MatplotlibDeprecationWarning: Axes3D(fig) adding itself to the figure is deprecated since 3.4. Pass the keyword argument auto_add_to_figure=False and use fig.add_axes(ax) to suppress this warning. The default value of auto_add_to_figure will change to False in mpl3.5 and True values will no longer work in 3.6.  This is consistent with other Axes classes.\n",
      "  ax = Axes3D(fig)\n",
      "No handles with labels found to put in legend.\n",
      "e:\\GitHub\\lifting_events_to_3d_hpe\\notebooks\\../scripts\\experimenting\\utils\\visualization.py:10: MatplotlibDeprecationWarning: Axes3D(fig) adding itself to the figure is deprecated since 3.4. Pass the keyword argument auto_add_to_figure=False and use fig.add_axes(ax) to suppress this warning. The default value of auto_add_to_figure will change to False in mpl3.5 and True values will no longer work in 3.6.  This is consistent with other Axes classes.\n",
      "  ax = Axes3D(fig)\n",
      "No handles with labels found to put in legend.\n",
      "e:\\GitHub\\lifting_events_to_3d_hpe\\notebooks\\../scripts\\experimenting\\utils\\visualization.py:10: MatplotlibDeprecationWarning: Axes3D(fig) adding itself to the figure is deprecated since 3.4. Pass the keyword argument auto_add_to_figure=False and use fig.add_axes(ax) to suppress this warning. The default value of auto_add_to_figure will change to False in mpl3.5 and True values will no longer work in 3.6.  This is consistent with other Axes classes.\n",
      "  ax = Axes3D(fig)\n",
      "No handles with labels found to put in legend.\n",
      "e:\\GitHub\\lifting_events_to_3d_hpe\\notebooks\\../scripts\\experimenting\\utils\\visualization.py:10: MatplotlibDeprecationWarning: Axes3D(fig) adding itself to the figure is deprecated since 3.4. Pass the keyword argument auto_add_to_figure=False and use fig.add_axes(ax) to suppress this warning. The default value of auto_add_to_figure will change to False in mpl3.5 and True values will no longer work in 3.6.  This is consistent with other Axes classes.\n",
      "  ax = Axes3D(fig)\n",
      "No handles with labels found to put in legend.\n",
      "e:\\GitHub\\lifting_events_to_3d_hpe\\notebooks\\../scripts\\experimenting\\utils\\visualization.py:10: MatplotlibDeprecationWarning: Axes3D(fig) adding itself to the figure is deprecated since 3.4. Pass the keyword argument auto_add_to_figure=False and use fig.add_axes(ax) to suppress this warning. The default value of auto_add_to_figure will change to False in mpl3.5 and True values will no longer work in 3.6.  This is consistent with other Axes classes.\n",
      "  ax = Axes3D(fig)\n",
      "No handles with labels found to put in legend.\n",
      "e:\\GitHub\\lifting_events_to_3d_hpe\\notebooks\\../scripts\\experimenting\\utils\\visualization.py:10: MatplotlibDeprecationWarning: Axes3D(fig) adding itself to the figure is deprecated since 3.4. Pass the keyword argument auto_add_to_figure=False and use fig.add_axes(ax) to suppress this warning. The default value of auto_add_to_figure will change to False in mpl3.5 and True values will no longer work in 3.6.  This is consistent with other Axes classes.\n",
      "  ax = Axes3D(fig)\n",
      "No handles with labels found to put in legend.\n",
      "e:\\GitHub\\lifting_events_to_3d_hpe\\notebooks\\../scripts\\experimenting\\utils\\visualization.py:10: MatplotlibDeprecationWarning: Axes3D(fig) adding itself to the figure is deprecated since 3.4. Pass the keyword argument auto_add_to_figure=False and use fig.add_axes(ax) to suppress this warning. The default value of auto_add_to_figure will change to False in mpl3.5 and True values will no longer work in 3.6.  This is consistent with other Axes classes.\n",
      "  ax = Axes3D(fig)\n",
      "No handles with labels found to put in legend.\n",
      "e:\\GitHub\\lifting_events_to_3d_hpe\\notebooks\\../scripts\\experimenting\\utils\\visualization.py:10: MatplotlibDeprecationWarning: Axes3D(fig) adding itself to the figure is deprecated since 3.4. Pass the keyword argument auto_add_to_figure=False and use fig.add_axes(ax) to suppress this warning. The default value of auto_add_to_figure will change to False in mpl3.5 and True values will no longer work in 3.6.  This is consistent with other Axes classes.\n",
      "  ax = Axes3D(fig)\n",
      "No handles with labels found to put in legend.\n",
      "e:\\GitHub\\lifting_events_to_3d_hpe\\notebooks\\../scripts\\experimenting\\utils\\visualization.py:10: MatplotlibDeprecationWarning: Axes3D(fig) adding itself to the figure is deprecated since 3.4. Pass the keyword argument auto_add_to_figure=False and use fig.add_axes(ax) to suppress this warning. The default value of auto_add_to_figure will change to False in mpl3.5 and True values will no longer work in 3.6.  This is consistent with other Axes classes.\n",
      "  ax = Axes3D(fig)\n",
      "No handles with labels found to put in legend.\n",
      "e:\\GitHub\\lifting_events_to_3d_hpe\\notebooks\\../scripts\\experimenting\\utils\\visualization.py:10: MatplotlibDeprecationWarning: Axes3D(fig) adding itself to the figure is deprecated since 3.4. Pass the keyword argument auto_add_to_figure=False and use fig.add_axes(ax) to suppress this warning. The default value of auto_add_to_figure will change to False in mpl3.5 and True values will no longer work in 3.6.  This is consistent with other Axes classes.\n",
      "  ax = Axes3D(fig)\n",
      "No handles with labels found to put in legend.\n",
      "e:\\GitHub\\lifting_events_to_3d_hpe\\notebooks\\../scripts\\experimenting\\utils\\visualization.py:10: MatplotlibDeprecationWarning: Axes3D(fig) adding itself to the figure is deprecated since 3.4. Pass the keyword argument auto_add_to_figure=False and use fig.add_axes(ax) to suppress this warning. The default value of auto_add_to_figure will change to False in mpl3.5 and True values will no longer work in 3.6.  This is consistent with other Axes classes.\n",
      "  ax = Axes3D(fig)\n",
      "No handles with labels found to put in legend.\n",
      "e:\\GitHub\\lifting_events_to_3d_hpe\\notebooks\\../scripts\\experimenting\\utils\\visualization.py:10: MatplotlibDeprecationWarning: Axes3D(fig) adding itself to the figure is deprecated since 3.4. Pass the keyword argument auto_add_to_figure=False and use fig.add_axes(ax) to suppress this warning. The default value of auto_add_to_figure will change to False in mpl3.5 and True values will no longer work in 3.6.  This is consistent with other Axes classes.\n",
      "  ax = Axes3D(fig)\n",
      "No handles with labels found to put in legend.\n",
      "e:\\GitHub\\lifting_events_to_3d_hpe\\notebooks\\../scripts\\experimenting\\utils\\visualization.py:10: MatplotlibDeprecationWarning: Axes3D(fig) adding itself to the figure is deprecated since 3.4. Pass the keyword argument auto_add_to_figure=False and use fig.add_axes(ax) to suppress this warning. The default value of auto_add_to_figure will change to False in mpl3.5 and True values will no longer work in 3.6.  This is consistent with other Axes classes.\n",
      "  ax = Axes3D(fig)\n",
      "No handles with labels found to put in legend.\n",
      "e:\\GitHub\\lifting_events_to_3d_hpe\\notebooks\\../scripts\\experimenting\\utils\\visualization.py:10: MatplotlibDeprecationWarning: Axes3D(fig) adding itself to the figure is deprecated since 3.4. Pass the keyword argument auto_add_to_figure=False and use fig.add_axes(ax) to suppress this warning. The default value of auto_add_to_figure will change to False in mpl3.5 and True values will no longer work in 3.6.  This is consistent with other Axes classes.\n",
      "  ax = Axes3D(fig)\n",
      "No handles with labels found to put in legend.\n",
      "e:\\GitHub\\lifting_events_to_3d_hpe\\notebooks\\../scripts\\experimenting\\utils\\visualization.py:10: MatplotlibDeprecationWarning: Axes3D(fig) adding itself to the figure is deprecated since 3.4. Pass the keyword argument auto_add_to_figure=False and use fig.add_axes(ax) to suppress this warning. The default value of auto_add_to_figure will change to False in mpl3.5 and True values will no longer work in 3.6.  This is consistent with other Axes classes.\n",
      "  ax = Axes3D(fig)\n",
      "No handles with labels found to put in legend.\n",
      "e:\\GitHub\\lifting_events_to_3d_hpe\\notebooks\\../scripts\\experimenting\\utils\\visualization.py:10: MatplotlibDeprecationWarning: Axes3D(fig) adding itself to the figure is deprecated since 3.4. Pass the keyword argument auto_add_to_figure=False and use fig.add_axes(ax) to suppress this warning. The default value of auto_add_to_figure will change to False in mpl3.5 and True values will no longer work in 3.6.  This is consistent with other Axes classes.\n",
      "  ax = Axes3D(fig)\n",
      "No handles with labels found to put in legend.\n",
      "e:\\GitHub\\lifting_events_to_3d_hpe\\notebooks\\../scripts\\experimenting\\utils\\visualization.py:10: MatplotlibDeprecationWarning: Axes3D(fig) adding itself to the figure is deprecated since 3.4. Pass the keyword argument auto_add_to_figure=False and use fig.add_axes(ax) to suppress this warning. The default value of auto_add_to_figure will change to False in mpl3.5 and True values will no longer work in 3.6.  This is consistent with other Axes classes.\n",
      "  ax = Axes3D(fig)\n",
      "No handles with labels found to put in legend.\n",
      "e:\\GitHub\\lifting_events_to_3d_hpe\\notebooks\\../scripts\\experimenting\\utils\\visualization.py:10: MatplotlibDeprecationWarning: Axes3D(fig) adding itself to the figure is deprecated since 3.4. Pass the keyword argument auto_add_to_figure=False and use fig.add_axes(ax) to suppress this warning. The default value of auto_add_to_figure will change to False in mpl3.5 and True values will no longer work in 3.6.  This is consistent with other Axes classes.\n",
      "  ax = Axes3D(fig)\n",
      "No handles with labels found to put in legend.\n",
      "e:\\GitHub\\lifting_events_to_3d_hpe\\notebooks\\../scripts\\experimenting\\utils\\visualization.py:10: MatplotlibDeprecationWarning: Axes3D(fig) adding itself to the figure is deprecated since 3.4. Pass the keyword argument auto_add_to_figure=False and use fig.add_axes(ax) to suppress this warning. The default value of auto_add_to_figure will change to False in mpl3.5 and True values will no longer work in 3.6.  This is consistent with other Axes classes.\n",
      "  ax = Axes3D(fig)\n",
      "No handles with labels found to put in legend.\n",
      "e:\\GitHub\\lifting_events_to_3d_hpe\\notebooks\\../scripts\\experimenting\\utils\\visualization.py:10: MatplotlibDeprecationWarning: Axes3D(fig) adding itself to the figure is deprecated since 3.4. Pass the keyword argument auto_add_to_figure=False and use fig.add_axes(ax) to suppress this warning. The default value of auto_add_to_figure will change to False in mpl3.5 and True values will no longer work in 3.6.  This is consistent with other Axes classes.\n",
      "  ax = Axes3D(fig)\n",
      "No handles with labels found to put in legend.\n",
      "e:\\GitHub\\lifting_events_to_3d_hpe\\notebooks\\../scripts\\experimenting\\utils\\visualization.py:10: MatplotlibDeprecationWarning: Axes3D(fig) adding itself to the figure is deprecated since 3.4. Pass the keyword argument auto_add_to_figure=False and use fig.add_axes(ax) to suppress this warning. The default value of auto_add_to_figure will change to False in mpl3.5 and True values will no longer work in 3.6.  This is consistent with other Axes classes.\n",
      "  ax = Axes3D(fig)\n",
      "No handles with labels found to put in legend.\n",
      "e:\\GitHub\\lifting_events_to_3d_hpe\\notebooks\\../scripts\\experimenting\\utils\\visualization.py:10: MatplotlibDeprecationWarning: Axes3D(fig) adding itself to the figure is deprecated since 3.4. Pass the keyword argument auto_add_to_figure=False and use fig.add_axes(ax) to suppress this warning. The default value of auto_add_to_figure will change to False in mpl3.5 and True values will no longer work in 3.6.  This is consistent with other Axes classes.\n",
      "  ax = Axes3D(fig)\n",
      "No handles with labels found to put in legend.\n",
      "e:\\GitHub\\lifting_events_to_3d_hpe\\notebooks\\../scripts\\experimenting\\utils\\visualization.py:10: MatplotlibDeprecationWarning: Axes3D(fig) adding itself to the figure is deprecated since 3.4. Pass the keyword argument auto_add_to_figure=False and use fig.add_axes(ax) to suppress this warning. The default value of auto_add_to_figure will change to False in mpl3.5 and True values will no longer work in 3.6.  This is consistent with other Axes classes.\n",
      "  ax = Axes3D(fig)\n",
      "No handles with labels found to put in legend.\n",
      "e:\\GitHub\\lifting_events_to_3d_hpe\\notebooks\\../scripts\\experimenting\\utils\\visualization.py:10: MatplotlibDeprecationWarning: Axes3D(fig) adding itself to the figure is deprecated since 3.4. Pass the keyword argument auto_add_to_figure=False and use fig.add_axes(ax) to suppress this warning. The default value of auto_add_to_figure will change to False in mpl3.5 and True values will no longer work in 3.6.  This is consistent with other Axes classes.\n",
      "  ax = Axes3D(fig)\n",
      "No handles with labels found to put in legend.\n",
      "e:\\GitHub\\lifting_events_to_3d_hpe\\notebooks\\../scripts\\experimenting\\utils\\visualization.py:10: MatplotlibDeprecationWarning: Axes3D(fig) adding itself to the figure is deprecated since 3.4. Pass the keyword argument auto_add_to_figure=False and use fig.add_axes(ax) to suppress this warning. The default value of auto_add_to_figure will change to False in mpl3.5 and True values will no longer work in 3.6.  This is consistent with other Axes classes.\n",
      "  ax = Axes3D(fig)\n",
      "No handles with labels found to put in legend.\n",
      "e:\\GitHub\\lifting_events_to_3d_hpe\\notebooks\\../scripts\\experimenting\\utils\\visualization.py:10: MatplotlibDeprecationWarning: Axes3D(fig) adding itself to the figure is deprecated since 3.4. Pass the keyword argument auto_add_to_figure=False and use fig.add_axes(ax) to suppress this warning. The default value of auto_add_to_figure will change to False in mpl3.5 and True values will no longer work in 3.6.  This is consistent with other Axes classes.\n",
      "  ax = Axes3D(fig)\n",
      "No handles with labels found to put in legend.\n",
      "e:\\GitHub\\lifting_events_to_3d_hpe\\notebooks\\../scripts\\experimenting\\utils\\visualization.py:10: MatplotlibDeprecationWarning: Axes3D(fig) adding itself to the figure is deprecated since 3.4. Pass the keyword argument auto_add_to_figure=False and use fig.add_axes(ax) to suppress this warning. The default value of auto_add_to_figure will change to False in mpl3.5 and True values will no longer work in 3.6.  This is consistent with other Axes classes.\n",
      "  ax = Axes3D(fig)\n",
      "No handles with labels found to put in legend.\n",
      "e:\\GitHub\\lifting_events_to_3d_hpe\\notebooks\\../scripts\\experimenting\\utils\\visualization.py:10: MatplotlibDeprecationWarning: Axes3D(fig) adding itself to the figure is deprecated since 3.4. Pass the keyword argument auto_add_to_figure=False and use fig.add_axes(ax) to suppress this warning. The default value of auto_add_to_figure will change to False in mpl3.5 and True values will no longer work in 3.6.  This is consistent with other Axes classes.\n",
      "  ax = Axes3D(fig)\n",
      "No handles with labels found to put in legend.\n",
      "e:\\GitHub\\lifting_events_to_3d_hpe\\notebooks\\../scripts\\experimenting\\utils\\visualization.py:10: MatplotlibDeprecationWarning: Axes3D(fig) adding itself to the figure is deprecated since 3.4. Pass the keyword argument auto_add_to_figure=False and use fig.add_axes(ax) to suppress this warning. The default value of auto_add_to_figure will change to False in mpl3.5 and True values will no longer work in 3.6.  This is consistent with other Axes classes.\n",
      "  ax = Axes3D(fig)\n",
      "No handles with labels found to put in legend.\n",
      "e:\\GitHub\\lifting_events_to_3d_hpe\\notebooks\\../scripts\\experimenting\\utils\\visualization.py:10: MatplotlibDeprecationWarning: Axes3D(fig) adding itself to the figure is deprecated since 3.4. Pass the keyword argument auto_add_to_figure=False and use fig.add_axes(ax) to suppress this warning. The default value of auto_add_to_figure will change to False in mpl3.5 and True values will no longer work in 3.6.  This is consistent with other Axes classes.\n",
      "  ax = Axes3D(fig)\n",
      "No handles with labels found to put in legend.\n",
      "e:\\GitHub\\lifting_events_to_3d_hpe\\notebooks\\../scripts\\experimenting\\utils\\visualization.py:10: MatplotlibDeprecationWarning: Axes3D(fig) adding itself to the figure is deprecated since 3.4. Pass the keyword argument auto_add_to_figure=False and use fig.add_axes(ax) to suppress this warning. The default value of auto_add_to_figure will change to False in mpl3.5 and True values will no longer work in 3.6.  This is consistent with other Axes classes.\n",
      "  ax = Axes3D(fig)\n",
      "No handles with labels found to put in legend.\n",
      "e:\\GitHub\\lifting_events_to_3d_hpe\\notebooks\\../scripts\\experimenting\\utils\\visualization.py:10: MatplotlibDeprecationWarning: Axes3D(fig) adding itself to the figure is deprecated since 3.4. Pass the keyword argument auto_add_to_figure=False and use fig.add_axes(ax) to suppress this warning. The default value of auto_add_to_figure will change to False in mpl3.5 and True values will no longer work in 3.6.  This is consistent with other Axes classes.\n",
      "  ax = Axes3D(fig)\n",
      "No handles with labels found to put in legend.\n",
      "e:\\GitHub\\lifting_events_to_3d_hpe\\notebooks\\../scripts\\experimenting\\utils\\visualization.py:10: MatplotlibDeprecationWarning: Axes3D(fig) adding itself to the figure is deprecated since 3.4. Pass the keyword argument auto_add_to_figure=False and use fig.add_axes(ax) to suppress this warning. The default value of auto_add_to_figure will change to False in mpl3.5 and True values will no longer work in 3.6.  This is consistent with other Axes classes.\n",
      "  ax = Axes3D(fig)\n",
      "No handles with labels found to put in legend.\n",
      "e:\\GitHub\\lifting_events_to_3d_hpe\\notebooks\\../scripts\\experimenting\\utils\\visualization.py:10: MatplotlibDeprecationWarning: Axes3D(fig) adding itself to the figure is deprecated since 3.4. Pass the keyword argument auto_add_to_figure=False and use fig.add_axes(ax) to suppress this warning. The default value of auto_add_to_figure will change to False in mpl3.5 and True values will no longer work in 3.6.  This is consistent with other Axes classes.\n",
      "  ax = Axes3D(fig)\n",
      "No handles with labels found to put in legend.\n",
      "e:\\GitHub\\lifting_events_to_3d_hpe\\notebooks\\../scripts\\experimenting\\utils\\visualization.py:10: MatplotlibDeprecationWarning: Axes3D(fig) adding itself to the figure is deprecated since 3.4. Pass the keyword argument auto_add_to_figure=False and use fig.add_axes(ax) to suppress this warning. The default value of auto_add_to_figure will change to False in mpl3.5 and True values will no longer work in 3.6.  This is consistent with other Axes classes.\n",
      "  ax = Axes3D(fig)\n",
      "No handles with labels found to put in legend.\n",
      "e:\\GitHub\\lifting_events_to_3d_hpe\\notebooks\\../scripts\\experimenting\\utils\\visualization.py:10: MatplotlibDeprecationWarning: Axes3D(fig) adding itself to the figure is deprecated since 3.4. Pass the keyword argument auto_add_to_figure=False and use fig.add_axes(ax) to suppress this warning. The default value of auto_add_to_figure will change to False in mpl3.5 and True values will no longer work in 3.6.  This is consistent with other Axes classes.\n",
      "  ax = Axes3D(fig)\n",
      "No handles with labels found to put in legend.\n",
      "e:\\GitHub\\lifting_events_to_3d_hpe\\notebooks\\../scripts\\experimenting\\utils\\visualization.py:10: MatplotlibDeprecationWarning: Axes3D(fig) adding itself to the figure is deprecated since 3.4. Pass the keyword argument auto_add_to_figure=False and use fig.add_axes(ax) to suppress this warning. The default value of auto_add_to_figure will change to False in mpl3.5 and True values will no longer work in 3.6.  This is consistent with other Axes classes.\n",
      "  ax = Axes3D(fig)\n",
      "No handles with labels found to put in legend.\n",
      "e:\\GitHub\\lifting_events_to_3d_hpe\\notebooks\\../scripts\\experimenting\\utils\\visualization.py:10: MatplotlibDeprecationWarning: Axes3D(fig) adding itself to the figure is deprecated since 3.4. Pass the keyword argument auto_add_to_figure=False and use fig.add_axes(ax) to suppress this warning. The default value of auto_add_to_figure will change to False in mpl3.5 and True values will no longer work in 3.6.  This is consistent with other Axes classes.\n",
      "  ax = Axes3D(fig)\n",
      "No handles with labels found to put in legend.\n",
      "e:\\GitHub\\lifting_events_to_3d_hpe\\notebooks\\../scripts\\experimenting\\utils\\visualization.py:10: MatplotlibDeprecationWarning: Axes3D(fig) adding itself to the figure is deprecated since 3.4. Pass the keyword argument auto_add_to_figure=False and use fig.add_axes(ax) to suppress this warning. The default value of auto_add_to_figure will change to False in mpl3.5 and True values will no longer work in 3.6.  This is consistent with other Axes classes.\n",
      "  ax = Axes3D(fig)\n",
      "No handles with labels found to put in legend.\n",
      "e:\\GitHub\\lifting_events_to_3d_hpe\\notebooks\\../scripts\\experimenting\\utils\\visualization.py:10: MatplotlibDeprecationWarning: Axes3D(fig) adding itself to the figure is deprecated since 3.4. Pass the keyword argument auto_add_to_figure=False and use fig.add_axes(ax) to suppress this warning. The default value of auto_add_to_figure will change to False in mpl3.5 and True values will no longer work in 3.6.  This is consistent with other Axes classes.\n",
      "  ax = Axes3D(fig)\n",
      "No handles with labels found to put in legend.\n",
      "e:\\GitHub\\lifting_events_to_3d_hpe\\notebooks\\../scripts\\experimenting\\utils\\visualization.py:10: MatplotlibDeprecationWarning: Axes3D(fig) adding itself to the figure is deprecated since 3.4. Pass the keyword argument auto_add_to_figure=False and use fig.add_axes(ax) to suppress this warning. The default value of auto_add_to_figure will change to False in mpl3.5 and True values will no longer work in 3.6.  This is consistent with other Axes classes.\n",
      "  ax = Axes3D(fig)\n",
      "No handles with labels found to put in legend.\n",
      "e:\\GitHub\\lifting_events_to_3d_hpe\\notebooks\\../scripts\\experimenting\\utils\\visualization.py:10: MatplotlibDeprecationWarning: Axes3D(fig) adding itself to the figure is deprecated since 3.4. Pass the keyword argument auto_add_to_figure=False and use fig.add_axes(ax) to suppress this warning. The default value of auto_add_to_figure will change to False in mpl3.5 and True values will no longer work in 3.6.  This is consistent with other Axes classes.\n",
      "  ax = Axes3D(fig)\n",
      "No handles with labels found to put in legend.\n",
      "e:\\GitHub\\lifting_events_to_3d_hpe\\notebooks\\../scripts\\experimenting\\utils\\visualization.py:10: MatplotlibDeprecationWarning: Axes3D(fig) adding itself to the figure is deprecated since 3.4. Pass the keyword argument auto_add_to_figure=False and use fig.add_axes(ax) to suppress this warning. The default value of auto_add_to_figure will change to False in mpl3.5 and True values will no longer work in 3.6.  This is consistent with other Axes classes.\n",
      "  ax = Axes3D(fig)\n",
      "No handles with labels found to put in legend.\n",
      "e:\\GitHub\\lifting_events_to_3d_hpe\\notebooks\\../scripts\\experimenting\\utils\\visualization.py:10: MatplotlibDeprecationWarning: Axes3D(fig) adding itself to the figure is deprecated since 3.4. Pass the keyword argument auto_add_to_figure=False and use fig.add_axes(ax) to suppress this warning. The default value of auto_add_to_figure will change to False in mpl3.5 and True values will no longer work in 3.6.  This is consistent with other Axes classes.\n",
      "  ax = Axes3D(fig)\n",
      "No handles with labels found to put in legend.\n",
      "e:\\GitHub\\lifting_events_to_3d_hpe\\notebooks\\../scripts\\experimenting\\utils\\visualization.py:10: MatplotlibDeprecationWarning: Axes3D(fig) adding itself to the figure is deprecated since 3.4. Pass the keyword argument auto_add_to_figure=False and use fig.add_axes(ax) to suppress this warning. The default value of auto_add_to_figure will change to False in mpl3.5 and True values will no longer work in 3.6.  This is consistent with other Axes classes.\n",
      "  ax = Axes3D(fig)\n",
      "No handles with labels found to put in legend.\n",
      "e:\\GitHub\\lifting_events_to_3d_hpe\\notebooks\\../scripts\\experimenting\\utils\\visualization.py:10: MatplotlibDeprecationWarning: Axes3D(fig) adding itself to the figure is deprecated since 3.4. Pass the keyword argument auto_add_to_figure=False and use fig.add_axes(ax) to suppress this warning. The default value of auto_add_to_figure will change to False in mpl3.5 and True values will no longer work in 3.6.  This is consistent with other Axes classes.\n",
      "  ax = Axes3D(fig)\n",
      "No handles with labels found to put in legend.\n",
      "e:\\GitHub\\lifting_events_to_3d_hpe\\notebooks\\../scripts\\experimenting\\utils\\visualization.py:10: MatplotlibDeprecationWarning: Axes3D(fig) adding itself to the figure is deprecated since 3.4. Pass the keyword argument auto_add_to_figure=False and use fig.add_axes(ax) to suppress this warning. The default value of auto_add_to_figure will change to False in mpl3.5 and True values will no longer work in 3.6.  This is consistent with other Axes classes.\n",
      "  ax = Axes3D(fig)\n",
      "No handles with labels found to put in legend.\n",
      "e:\\GitHub\\lifting_events_to_3d_hpe\\notebooks\\../scripts\\experimenting\\utils\\visualization.py:10: MatplotlibDeprecationWarning: Axes3D(fig) adding itself to the figure is deprecated since 3.4. Pass the keyword argument auto_add_to_figure=False and use fig.add_axes(ax) to suppress this warning. The default value of auto_add_to_figure will change to False in mpl3.5 and True values will no longer work in 3.6.  This is consistent with other Axes classes.\n",
      "  ax = Axes3D(fig)\n",
      "No handles with labels found to put in legend.\n",
      "e:\\GitHub\\lifting_events_to_3d_hpe\\notebooks\\../scripts\\experimenting\\utils\\visualization.py:10: MatplotlibDeprecationWarning: Axes3D(fig) adding itself to the figure is deprecated since 3.4. Pass the keyword argument auto_add_to_figure=False and use fig.add_axes(ax) to suppress this warning. The default value of auto_add_to_figure will change to False in mpl3.5 and True values will no longer work in 3.6.  This is consistent with other Axes classes.\n",
      "  ax = Axes3D(fig)\n",
      "No handles with labels found to put in legend.\n",
      "e:\\GitHub\\lifting_events_to_3d_hpe\\notebooks\\../scripts\\experimenting\\utils\\visualization.py:10: MatplotlibDeprecationWarning: Axes3D(fig) adding itself to the figure is deprecated since 3.4. Pass the keyword argument auto_add_to_figure=False and use fig.add_axes(ax) to suppress this warning. The default value of auto_add_to_figure will change to False in mpl3.5 and True values will no longer work in 3.6.  This is consistent with other Axes classes.\n",
      "  ax = Axes3D(fig)\n",
      "No handles with labels found to put in legend.\n",
      "e:\\GitHub\\lifting_events_to_3d_hpe\\notebooks\\../scripts\\experimenting\\utils\\visualization.py:10: MatplotlibDeprecationWarning: Axes3D(fig) adding itself to the figure is deprecated since 3.4. Pass the keyword argument auto_add_to_figure=False and use fig.add_axes(ax) to suppress this warning. The default value of auto_add_to_figure will change to False in mpl3.5 and True values will no longer work in 3.6.  This is consistent with other Axes classes.\n",
      "  ax = Axes3D(fig)\n",
      "No handles with labels found to put in legend.\n",
      "e:\\GitHub\\lifting_events_to_3d_hpe\\notebooks\\../scripts\\experimenting\\utils\\visualization.py:10: MatplotlibDeprecationWarning: Axes3D(fig) adding itself to the figure is deprecated since 3.4. Pass the keyword argument auto_add_to_figure=False and use fig.add_axes(ax) to suppress this warning. The default value of auto_add_to_figure will change to False in mpl3.5 and True values will no longer work in 3.6.  This is consistent with other Axes classes.\n",
      "  ax = Axes3D(fig)\n",
      "No handles with labels found to put in legend.\n",
      "e:\\GitHub\\lifting_events_to_3d_hpe\\notebooks\\../scripts\\experimenting\\utils\\visualization.py:10: MatplotlibDeprecationWarning: Axes3D(fig) adding itself to the figure is deprecated since 3.4. Pass the keyword argument auto_add_to_figure=False and use fig.add_axes(ax) to suppress this warning. The default value of auto_add_to_figure will change to False in mpl3.5 and True values will no longer work in 3.6.  This is consistent with other Axes classes.\n",
      "  ax = Axes3D(fig)\n",
      "No handles with labels found to put in legend.\n",
      "e:\\GitHub\\lifting_events_to_3d_hpe\\notebooks\\../scripts\\experimenting\\utils\\visualization.py:10: MatplotlibDeprecationWarning: Axes3D(fig) adding itself to the figure is deprecated since 3.4. Pass the keyword argument auto_add_to_figure=False and use fig.add_axes(ax) to suppress this warning. The default value of auto_add_to_figure will change to False in mpl3.5 and True values will no longer work in 3.6.  This is consistent with other Axes classes.\n",
      "  ax = Axes3D(fig)\n",
      "No handles with labels found to put in legend.\n",
      "e:\\GitHub\\lifting_events_to_3d_hpe\\notebooks\\../scripts\\experimenting\\utils\\visualization.py:10: MatplotlibDeprecationWarning: Axes3D(fig) adding itself to the figure is deprecated since 3.4. Pass the keyword argument auto_add_to_figure=False and use fig.add_axes(ax) to suppress this warning. The default value of auto_add_to_figure will change to False in mpl3.5 and True values will no longer work in 3.6.  This is consistent with other Axes classes.\n",
      "  ax = Axes3D(fig)\n",
      "No handles with labels found to put in legend.\n",
      "e:\\GitHub\\lifting_events_to_3d_hpe\\notebooks\\../scripts\\experimenting\\utils\\visualization.py:10: MatplotlibDeprecationWarning: Axes3D(fig) adding itself to the figure is deprecated since 3.4. Pass the keyword argument auto_add_to_figure=False and use fig.add_axes(ax) to suppress this warning. The default value of auto_add_to_figure will change to False in mpl3.5 and True values will no longer work in 3.6.  This is consistent with other Axes classes.\n",
      "  ax = Axes3D(fig)\n",
      "No handles with labels found to put in legend.\n",
      "e:\\GitHub\\lifting_events_to_3d_hpe\\notebooks\\../scripts\\experimenting\\utils\\visualization.py:10: MatplotlibDeprecationWarning: Axes3D(fig) adding itself to the figure is deprecated since 3.4. Pass the keyword argument auto_add_to_figure=False and use fig.add_axes(ax) to suppress this warning. The default value of auto_add_to_figure will change to False in mpl3.5 and True values will no longer work in 3.6.  This is consistent with other Axes classes.\n",
      "  ax = Axes3D(fig)\n",
      "No handles with labels found to put in legend.\n",
      "e:\\GitHub\\lifting_events_to_3d_hpe\\notebooks\\../scripts\\experimenting\\utils\\visualization.py:10: MatplotlibDeprecationWarning: Axes3D(fig) adding itself to the figure is deprecated since 3.4. Pass the keyword argument auto_add_to_figure=False and use fig.add_axes(ax) to suppress this warning. The default value of auto_add_to_figure will change to False in mpl3.5 and True values will no longer work in 3.6.  This is consistent with other Axes classes.\n",
      "  ax = Axes3D(fig)\n",
      "No handles with labels found to put in legend.\n",
      "e:\\GitHub\\lifting_events_to_3d_hpe\\notebooks\\../scripts\\experimenting\\utils\\visualization.py:10: MatplotlibDeprecationWarning: Axes3D(fig) adding itself to the figure is deprecated since 3.4. Pass the keyword argument auto_add_to_figure=False and use fig.add_axes(ax) to suppress this warning. The default value of auto_add_to_figure will change to False in mpl3.5 and True values will no longer work in 3.6.  This is consistent with other Axes classes.\n",
      "  ax = Axes3D(fig)\n",
      "No handles with labels found to put in legend.\n",
      "e:\\GitHub\\lifting_events_to_3d_hpe\\notebooks\\../scripts\\experimenting\\utils\\visualization.py:10: MatplotlibDeprecationWarning: Axes3D(fig) adding itself to the figure is deprecated since 3.4. Pass the keyword argument auto_add_to_figure=False and use fig.add_axes(ax) to suppress this warning. The default value of auto_add_to_figure will change to False in mpl3.5 and True values will no longer work in 3.6.  This is consistent with other Axes classes.\n",
      "  ax = Axes3D(fig)\n",
      "No handles with labels found to put in legend.\n",
      "e:\\GitHub\\lifting_events_to_3d_hpe\\notebooks\\../scripts\\experimenting\\utils\\visualization.py:10: MatplotlibDeprecationWarning: Axes3D(fig) adding itself to the figure is deprecated since 3.4. Pass the keyword argument auto_add_to_figure=False and use fig.add_axes(ax) to suppress this warning. The default value of auto_add_to_figure will change to False in mpl3.5 and True values will no longer work in 3.6.  This is consistent with other Axes classes.\n",
      "  ax = Axes3D(fig)\n",
      "No handles with labels found to put in legend.\n",
      "e:\\GitHub\\lifting_events_to_3d_hpe\\notebooks\\../scripts\\experimenting\\utils\\visualization.py:10: MatplotlibDeprecationWarning: Axes3D(fig) adding itself to the figure is deprecated since 3.4. Pass the keyword argument auto_add_to_figure=False and use fig.add_axes(ax) to suppress this warning. The default value of auto_add_to_figure will change to False in mpl3.5 and True values will no longer work in 3.6.  This is consistent with other Axes classes.\n",
      "  ax = Axes3D(fig)\n",
      "No handles with labels found to put in legend.\n",
      "e:\\GitHub\\lifting_events_to_3d_hpe\\notebooks\\../scripts\\experimenting\\utils\\visualization.py:10: MatplotlibDeprecationWarning: Axes3D(fig) adding itself to the figure is deprecated since 3.4. Pass the keyword argument auto_add_to_figure=False and use fig.add_axes(ax) to suppress this warning. The default value of auto_add_to_figure will change to False in mpl3.5 and True values will no longer work in 3.6.  This is consistent with other Axes classes.\n",
      "  ax = Axes3D(fig)\n",
      "No handles with labels found to put in legend.\n",
      "e:\\GitHub\\lifting_events_to_3d_hpe\\notebooks\\../scripts\\experimenting\\utils\\visualization.py:10: MatplotlibDeprecationWarning: Axes3D(fig) adding itself to the figure is deprecated since 3.4. Pass the keyword argument auto_add_to_figure=False and use fig.add_axes(ax) to suppress this warning. The default value of auto_add_to_figure will change to False in mpl3.5 and True values will no longer work in 3.6.  This is consistent with other Axes classes.\n",
      "  ax = Axes3D(fig)\n",
      "No handles with labels found to put in legend.\n",
      "e:\\GitHub\\lifting_events_to_3d_hpe\\notebooks\\../scripts\\experimenting\\utils\\visualization.py:10: MatplotlibDeprecationWarning: Axes3D(fig) adding itself to the figure is deprecated since 3.4. Pass the keyword argument auto_add_to_figure=False and use fig.add_axes(ax) to suppress this warning. The default value of auto_add_to_figure will change to False in mpl3.5 and True values will no longer work in 3.6.  This is consistent with other Axes classes.\n",
      "  ax = Axes3D(fig)\n",
      "No handles with labels found to put in legend.\n",
      "e:\\GitHub\\lifting_events_to_3d_hpe\\notebooks\\../scripts\\experimenting\\utils\\visualization.py:10: MatplotlibDeprecationWarning: Axes3D(fig) adding itself to the figure is deprecated since 3.4. Pass the keyword argument auto_add_to_figure=False and use fig.add_axes(ax) to suppress this warning. The default value of auto_add_to_figure will change to False in mpl3.5 and True values will no longer work in 3.6.  This is consistent with other Axes classes.\n",
      "  ax = Axes3D(fig)\n",
      "No handles with labels found to put in legend.\n",
      "e:\\GitHub\\lifting_events_to_3d_hpe\\notebooks\\../scripts\\experimenting\\utils\\visualization.py:10: MatplotlibDeprecationWarning: Axes3D(fig) adding itself to the figure is deprecated since 3.4. Pass the keyword argument auto_add_to_figure=False and use fig.add_axes(ax) to suppress this warning. The default value of auto_add_to_figure will change to False in mpl3.5 and True values will no longer work in 3.6.  This is consistent with other Axes classes.\n",
      "  ax = Axes3D(fig)\n",
      "No handles with labels found to put in legend.\n",
      "e:\\GitHub\\lifting_events_to_3d_hpe\\notebooks\\../scripts\\experimenting\\utils\\visualization.py:10: MatplotlibDeprecationWarning: Axes3D(fig) adding itself to the figure is deprecated since 3.4. Pass the keyword argument auto_add_to_figure=False and use fig.add_axes(ax) to suppress this warning. The default value of auto_add_to_figure will change to False in mpl3.5 and True values will no longer work in 3.6.  This is consistent with other Axes classes.\n",
      "  ax = Axes3D(fig)\n",
      "No handles with labels found to put in legend.\n",
      "e:\\GitHub\\lifting_events_to_3d_hpe\\notebooks\\../scripts\\experimenting\\utils\\visualization.py:10: MatplotlibDeprecationWarning: Axes3D(fig) adding itself to the figure is deprecated since 3.4. Pass the keyword argument auto_add_to_figure=False and use fig.add_axes(ax) to suppress this warning. The default value of auto_add_to_figure will change to False in mpl3.5 and True values will no longer work in 3.6.  This is consistent with other Axes classes.\n",
      "  ax = Axes3D(fig)\n",
      "No handles with labels found to put in legend.\n",
      "e:\\GitHub\\lifting_events_to_3d_hpe\\notebooks\\../scripts\\experimenting\\utils\\visualization.py:10: MatplotlibDeprecationWarning: Axes3D(fig) adding itself to the figure is deprecated since 3.4. Pass the keyword argument auto_add_to_figure=False and use fig.add_axes(ax) to suppress this warning. The default value of auto_add_to_figure will change to False in mpl3.5 and True values will no longer work in 3.6.  This is consistent with other Axes classes.\n",
      "  ax = Axes3D(fig)\n",
      "No handles with labels found to put in legend.\n",
      "e:\\GitHub\\lifting_events_to_3d_hpe\\notebooks\\../scripts\\experimenting\\utils\\visualization.py:10: MatplotlibDeprecationWarning: Axes3D(fig) adding itself to the figure is deprecated since 3.4. Pass the keyword argument auto_add_to_figure=False and use fig.add_axes(ax) to suppress this warning. The default value of auto_add_to_figure will change to False in mpl3.5 and True values will no longer work in 3.6.  This is consistent with other Axes classes.\n",
      "  ax = Axes3D(fig)\n",
      "No handles with labels found to put in legend.\n",
      "e:\\GitHub\\lifting_events_to_3d_hpe\\notebooks\\../scripts\\experimenting\\utils\\visualization.py:10: MatplotlibDeprecationWarning: Axes3D(fig) adding itself to the figure is deprecated since 3.4. Pass the keyword argument auto_add_to_figure=False and use fig.add_axes(ax) to suppress this warning. The default value of auto_add_to_figure will change to False in mpl3.5 and True values will no longer work in 3.6.  This is consistent with other Axes classes.\n",
      "  ax = Axes3D(fig)\n",
      "No handles with labels found to put in legend.\n",
      "e:\\GitHub\\lifting_events_to_3d_hpe\\notebooks\\../scripts\\experimenting\\utils\\visualization.py:10: MatplotlibDeprecationWarning: Axes3D(fig) adding itself to the figure is deprecated since 3.4. Pass the keyword argument auto_add_to_figure=False and use fig.add_axes(ax) to suppress this warning. The default value of auto_add_to_figure will change to False in mpl3.5 and True values will no longer work in 3.6.  This is consistent with other Axes classes.\n",
      "  ax = Axes3D(fig)\n",
      "No handles with labels found to put in legend.\n",
      "e:\\GitHub\\lifting_events_to_3d_hpe\\notebooks\\../scripts\\experimenting\\utils\\visualization.py:10: MatplotlibDeprecationWarning: Axes3D(fig) adding itself to the figure is deprecated since 3.4. Pass the keyword argument auto_add_to_figure=False and use fig.add_axes(ax) to suppress this warning. The default value of auto_add_to_figure will change to False in mpl3.5 and True values will no longer work in 3.6.  This is consistent with other Axes classes.\n",
      "  ax = Axes3D(fig)\n",
      "No handles with labels found to put in legend.\n",
      "e:\\GitHub\\lifting_events_to_3d_hpe\\notebooks\\../scripts\\experimenting\\utils\\visualization.py:10: MatplotlibDeprecationWarning: Axes3D(fig) adding itself to the figure is deprecated since 3.4. Pass the keyword argument auto_add_to_figure=False and use fig.add_axes(ax) to suppress this warning. The default value of auto_add_to_figure will change to False in mpl3.5 and True values will no longer work in 3.6.  This is consistent with other Axes classes.\n",
      "  ax = Axes3D(fig)\n",
      "No handles with labels found to put in legend.\n",
      "e:\\GitHub\\lifting_events_to_3d_hpe\\notebooks\\../scripts\\experimenting\\utils\\visualization.py:10: MatplotlibDeprecationWarning: Axes3D(fig) adding itself to the figure is deprecated since 3.4. Pass the keyword argument auto_add_to_figure=False and use fig.add_axes(ax) to suppress this warning. The default value of auto_add_to_figure will change to False in mpl3.5 and True values will no longer work in 3.6.  This is consistent with other Axes classes.\n",
      "  ax = Axes3D(fig)\n",
      "No handles with labels found to put in legend.\n",
      "e:\\GitHub\\lifting_events_to_3d_hpe\\notebooks\\../scripts\\experimenting\\utils\\visualization.py:10: MatplotlibDeprecationWarning: Axes3D(fig) adding itself to the figure is deprecated since 3.4. Pass the keyword argument auto_add_to_figure=False and use fig.add_axes(ax) to suppress this warning. The default value of auto_add_to_figure will change to False in mpl3.5 and True values will no longer work in 3.6.  This is consistent with other Axes classes.\n",
      "  ax = Axes3D(fig)\n",
      "No handles with labels found to put in legend.\n",
      "e:\\GitHub\\lifting_events_to_3d_hpe\\notebooks\\../scripts\\experimenting\\utils\\visualization.py:10: MatplotlibDeprecationWarning: Axes3D(fig) adding itself to the figure is deprecated since 3.4. Pass the keyword argument auto_add_to_figure=False and use fig.add_axes(ax) to suppress this warning. The default value of auto_add_to_figure will change to False in mpl3.5 and True values will no longer work in 3.6.  This is consistent with other Axes classes.\n",
      "  ax = Axes3D(fig)\n",
      "No handles with labels found to put in legend.\n",
      "e:\\GitHub\\lifting_events_to_3d_hpe\\notebooks\\../scripts\\experimenting\\utils\\visualization.py:10: MatplotlibDeprecationWarning: Axes3D(fig) adding itself to the figure is deprecated since 3.4. Pass the keyword argument auto_add_to_figure=False and use fig.add_axes(ax) to suppress this warning. The default value of auto_add_to_figure will change to False in mpl3.5 and True values will no longer work in 3.6.  This is consistent with other Axes classes.\n",
      "  ax = Axes3D(fig)\n",
      "No handles with labels found to put in legend.\n",
      "e:\\GitHub\\lifting_events_to_3d_hpe\\notebooks\\../scripts\\experimenting\\utils\\visualization.py:10: MatplotlibDeprecationWarning: Axes3D(fig) adding itself to the figure is deprecated since 3.4. Pass the keyword argument auto_add_to_figure=False and use fig.add_axes(ax) to suppress this warning. The default value of auto_add_to_figure will change to False in mpl3.5 and True values will no longer work in 3.6.  This is consistent with other Axes classes.\n",
      "  ax = Axes3D(fig)\n",
      "No handles with labels found to put in legend.\n",
      "e:\\GitHub\\lifting_events_to_3d_hpe\\notebooks\\../scripts\\experimenting\\utils\\visualization.py:10: MatplotlibDeprecationWarning: Axes3D(fig) adding itself to the figure is deprecated since 3.4. Pass the keyword argument auto_add_to_figure=False and use fig.add_axes(ax) to suppress this warning. The default value of auto_add_to_figure will change to False in mpl3.5 and True values will no longer work in 3.6.  This is consistent with other Axes classes.\n",
      "  ax = Axes3D(fig)\n",
      "No handles with labels found to put in legend.\n",
      "e:\\GitHub\\lifting_events_to_3d_hpe\\notebooks\\../scripts\\experimenting\\utils\\visualization.py:10: MatplotlibDeprecationWarning: Axes3D(fig) adding itself to the figure is deprecated since 3.4. Pass the keyword argument auto_add_to_figure=False and use fig.add_axes(ax) to suppress this warning. The default value of auto_add_to_figure will change to False in mpl3.5 and True values will no longer work in 3.6.  This is consistent with other Axes classes.\n",
      "  ax = Axes3D(fig)\n",
      "No handles with labels found to put in legend.\n",
      "e:\\GitHub\\lifting_events_to_3d_hpe\\notebooks\\../scripts\\experimenting\\utils\\visualization.py:10: MatplotlibDeprecationWarning: Axes3D(fig) adding itself to the figure is deprecated since 3.4. Pass the keyword argument auto_add_to_figure=False and use fig.add_axes(ax) to suppress this warning. The default value of auto_add_to_figure will change to False in mpl3.5 and True values will no longer work in 3.6.  This is consistent with other Axes classes.\n",
      "  ax = Axes3D(fig)\n",
      "No handles with labels found to put in legend.\n",
      "e:\\GitHub\\lifting_events_to_3d_hpe\\notebooks\\../scripts\\experimenting\\utils\\visualization.py:10: MatplotlibDeprecationWarning: Axes3D(fig) adding itself to the figure is deprecated since 3.4. Pass the keyword argument auto_add_to_figure=False and use fig.add_axes(ax) to suppress this warning. The default value of auto_add_to_figure will change to False in mpl3.5 and True values will no longer work in 3.6.  This is consistent with other Axes classes.\n",
      "  ax = Axes3D(fig)\n",
      "No handles with labels found to put in legend.\n",
      "e:\\GitHub\\lifting_events_to_3d_hpe\\notebooks\\../scripts\\experimenting\\utils\\visualization.py:10: MatplotlibDeprecationWarning: Axes3D(fig) adding itself to the figure is deprecated since 3.4. Pass the keyword argument auto_add_to_figure=False and use fig.add_axes(ax) to suppress this warning. The default value of auto_add_to_figure will change to False in mpl3.5 and True values will no longer work in 3.6.  This is consistent with other Axes classes.\n",
      "  ax = Axes3D(fig)\n",
      "No handles with labels found to put in legend.\n",
      "e:\\GitHub\\lifting_events_to_3d_hpe\\notebooks\\../scripts\\experimenting\\utils\\visualization.py:10: MatplotlibDeprecationWarning: Axes3D(fig) adding itself to the figure is deprecated since 3.4. Pass the keyword argument auto_add_to_figure=False and use fig.add_axes(ax) to suppress this warning. The default value of auto_add_to_figure will change to False in mpl3.5 and True values will no longer work in 3.6.  This is consistent with other Axes classes.\n",
      "  ax = Axes3D(fig)\n",
      "No handles with labels found to put in legend.\n",
      "e:\\GitHub\\lifting_events_to_3d_hpe\\notebooks\\../scripts\\experimenting\\utils\\visualization.py:10: MatplotlibDeprecationWarning: Axes3D(fig) adding itself to the figure is deprecated since 3.4. Pass the keyword argument auto_add_to_figure=False and use fig.add_axes(ax) to suppress this warning. The default value of auto_add_to_figure will change to False in mpl3.5 and True values will no longer work in 3.6.  This is consistent with other Axes classes.\n",
      "  ax = Axes3D(fig)\n",
      "No handles with labels found to put in legend.\n",
      "e:\\GitHub\\lifting_events_to_3d_hpe\\notebooks\\../scripts\\experimenting\\utils\\visualization.py:10: MatplotlibDeprecationWarning: Axes3D(fig) adding itself to the figure is deprecated since 3.4. Pass the keyword argument auto_add_to_figure=False and use fig.add_axes(ax) to suppress this warning. The default value of auto_add_to_figure will change to False in mpl3.5 and True values will no longer work in 3.6.  This is consistent with other Axes classes.\n",
      "  ax = Axes3D(fig)\n",
      "No handles with labels found to put in legend.\n"
     ]
    }
   ],
   "source": [
    "# sk_label, pred_sk = plot_next(loader=loader)\n",
    "for i in range(100):\n",
    "    plot_next(loader=loader)\n",
    "    counter += 1"
   ]
  },
  {
   "cell_type": "code",
   "execution_count": 12,
   "metadata": {},
   "outputs": [
    {
     "name": "stdout",
     "output_type": "stream",
     "text": [
      "tensor([ 3.5152e+02, -1.0418e+02,  1.2075e+03,  1.0000e+00],\n",
      "       dtype=torch.float64) tensor([ 5.2115e+02, -1.4651e+02,  1.4198e+03,  1.0000e+00],\n",
      "       dtype=torch.float64)\n"
     ]
    }
   ],
   "source": [
    "print(sk_label.left_elbow_point, pred_sk.left_elbow_point)"
   ]
  },
  {
   "cell_type": "code",
   "execution_count": 54,
   "metadata": {},
   "outputs": [
    {
     "name": "stderr",
     "output_type": "stream",
     "text": [
      "e:\\GitHub\\lifting_events_to_3d_hpe\\notebooks\\../scripts\\experimenting\\utils\\visualization.py:10: MatplotlibDeprecationWarning: Axes3D(fig) adding itself to the figure is deprecated since 3.4. Pass the keyword argument auto_add_to_figure=False and use fig.add_axes(ax) to suppress this warning. The default value of auto_add_to_figure will change to False in mpl3.5 and True values will no longer work in 3.6.  This is consistent with other Axes classes.\n",
      "  ax = Axes3D(fig)\n",
      "No handles with labels found to put in legend.\n"
     ]
    },
    {
     "data": {
      "image/png": "[encoded data removed]",
      "text/plain": [
       "<Figure size 576x576 with 1 Axes>"
      ]
     },
     "metadata": {
      "needs_background": "light"
     },
     "output_type": "display_data"
    },
    {
     "data": {
      "image/png": "[encoded data removed]",
      "text/plain": [
       "<Figure size 432x288 with 1 Axes>"
      ]
     },
     "metadata": {
      "needs_background": "light"
     },
     "output_type": "display_data"
    }
   ],
   "source": [
    "b_x, b_y = next(loader)\n",
    "preds, outs = model(b_x.permute(0, -1, 1, 2).cuda())\n",
    "preds = preds.cpu()\n",
    "pred_sk = Skeleton(preds[0].detach().numpy()).denormalize(260, 346, camera=b_y['camera'][0], z_ref=b_y['z_ref'][0]).reproject_onto_world(b_y['M'][0])\n",
    "plot_skeleton_3d(Skeleton(b_y['xyz'][0]), pred_sk)\n",
    "gt_joints = torch.stack([b_y['2d_joints'][0][:, 0], b_y['2d_joints'][0][:, 1]], 1)\n",
    "pred_joints = pred_sk.get_2d_points(260, 346, extrinsic_matrix=b_y['M'][0], intrinsic_matrix=b_y['camera'][0])\n",
    "\n",
    "pred_joints = np.stack([pred_joints[:, 0], pred_joints[:, 1]], 1)\n",
    "plot_skeleton_2d(b_x[0].squeeze(), gt_joints, pred_joints)"
   ]
  },
  {
   "cell_type": "code",
   "execution_count": 60,
   "metadata": {},
   "outputs": [
    {
     "name": "stdout",
     "output_type": "stream",
     "text": [
      "['xyz', 'M', 'camera']\n"
     ]
    }
   ],
   "source": [
    "lb = np.load(r'J:\\datasets\\DVS\\dhp19\\time_count_dataset\\labels\\S10_session_1_mov_1_frame_10_cam_1_2dhm.npz')\n",
    "print(list(lb.keys()))"
   ]
  },
  {
   "cell_type": "code",
   "execution_count": 62,
   "metadata": {},
   "outputs": [
    {
     "data": {
      "text/plain": [
       "array([[-316.81646441,   -4.96433508,  185.50450752,    0.        ],\n",
       "       [  -0.        , -319.14908052,   93.22181153,    0.        ],\n",
       "       [   0.        ,    0.        ,    1.        ,    0.        ]])"
      ]
     },
     "execution_count": 62,
     "metadata": {},
     "output_type": "execute_result"
    }
   ],
   "source": [
    "lb.get('camera')"
   ]
  },
  {
   "cell_type": "code",
   "execution_count": 63,
   "id": "bd0ce3a9",
   "metadata": {},
   "outputs": [
    {
     "data": {
      "text/plain": [
       "array([[-8.21604577e-02,  9.96564506e-01, -1.04328364e-02,\n",
       "         3.88271340e+02],\n",
       "       [-4.77458338e-01, -3.01703939e-02,  8.78136255e-01,\n",
       "        -6.80531960e+02],\n",
       "       [ 8.74804661e-01,  7.71293213e-02,  4.78296847e-01,\n",
       "        -2.93054028e+03]])"
      ]
     },
     "execution_count": 63,
     "metadata": {},
     "output_type": "execute_result"
    }
   ],
   "source": [
    "lb.get('M')"
   ]
  },
  {
   "cell_type": "code",
   "execution_count": 28,
   "id": "40448309",
   "metadata": {},
   "outputs": [
    {
     "data": {
      "text/plain": [
       "array([[ -40.74964523, -225.6829834 ,  122.54750061, -264.86437988,\n",
       "         190.12931824, -166.5912323 ,   96.4475174 , -280.66555786,\n",
       "         265.08459473, -222.85574341,  114.57054901, -259.88586426,\n",
       "         181.70509338],\n",
       "       [  55.15184021,  108.48353577,  104.22634888,  175.11917114,\n",
       "         183.21621704,  -22.85309601,   -8.24820614,  -17.0972023 ,\n",
       "          25.52164841,   11.23552895,   24.20362663,  -75.02854156,\n",
       "         -54.44061661],\n",
       "       [1900.53442383, 1582.62695312, 1565.50585938, 1222.76257324,\n",
       "        1238.0723877 , 1063.42016602, 1046.03308105,  904.17816162,\n",
       "         902.73834229,  544.91339111,  554.31347656,   86.18963623,\n",
       "          86.2082901 ]])"
      ]
     },
     "execution_count": 28,
     "metadata": {},
     "output_type": "execute_result"
    }
   ],
   "source": [
    "lb.get('xyz')"
   ]
  },
  {
   "cell_type": "code",
   "execution_count": 55,
   "id": "47cd5423",
   "metadata": {},
   "outputs": [
    {
     "data": {
      "text/plain": [
       "tensor([[167., 201.],\n",
       "        [151., 170.],\n",
       "        [189., 169.],\n",
       "        [153., 136.],\n",
       "        [191., 140.],\n",
       "        [155., 123.],\n",
       "        [175., 124.],\n",
       "        [147., 119.],\n",
       "        [190., 123.],\n",
       "        [147.,  77.],\n",
       "        [164.,  78.],\n",
       "        [167.,  68.],\n",
       "        [169.,  42.]], dtype=torch.float64)"
      ]
     },
     "execution_count": 55,
     "metadata": {},
     "output_type": "execute_result"
    }
   ],
   "source": [
    "gt_joints"
   ]
  },
  {
   "cell_type": "code",
   "execution_count": 16,
   "metadata": {},
   "outputs": [
    {
     "name": "stdout",
     "output_type": "stream",
     "text": [
      "(260, 346)\n"
     ]
    }
   ],
   "source": [
    "fms = np.load(r'J:\\datasets\\DVS\\dhp19\\time_count_dataset\\frames\\S10_session_1_mov_2_frame_11_cam_2.npy')\n",
    "print(fms.shape)"
   ]
  },
  {
   "cell_type": "code",
   "execution_count": 29,
   "metadata": {},
   "outputs": [
    {
     "data": {
      "image/png": "[encoded data removed]",
      "text/plain": [
       "<Figure size 432x288 with 1 Axes>"
      ]
     },
     "metadata": {
      "needs_background": "light"
     },
     "output_type": "display_data"
    }
   ],
   "source": [
    "from mlib import mcv\n",
    "mcv.imshow(fms, multiply=255)"
   ]
  },
  {
   "cell_type": "code",
   "execution_count": 27,
   "metadata": {},
   "outputs": [
    {
     "data": {
      "text/plain": [
       "{0.0, 33.0, 66.0, 99.0, 133.0, 166.0, 199.0, 233.0, 255.0}"
      ]
     },
     "execution_count": 27,
     "metadata": {},
     "output_type": "execute_result"
    }
   ],
   "source": [
    "set(fms.flatten().tolist())"
   ]
  },
  {
   "cell_type": "code",
   "execution_count": null,
   "id": "9eb64866",
   "metadata": {},
   "outputs": [],
   "source": []
  }
 ],
 "metadata": {
  "interpreter": {
   "hash": "851382dcc65254db805e135a267fa5b57e644be96f10f7ad07b8caeb1830b129"
  },
  "kernelspec": {
   "display_name": "Python 3.8.11 64-bit ('dvs_pose': conda)",
   "name": "python3"
  },
  "language_info": {
   "codemirror_mode": {
    "name": "ipython",
    "version": 3
   },
   "file_extension": ".py",
   "mimetype": "text/x-python",
   "name": "python",
   "nbconvert_exporter": "python",
   "pygments_lexer": "ipython3",
   "version": "3.8.11"
  }
 },
 "nbformat": 4,
 "nbformat_minor": 5
}
